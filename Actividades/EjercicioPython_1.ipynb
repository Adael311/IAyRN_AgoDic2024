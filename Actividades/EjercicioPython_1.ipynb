{
  "nbformat": 4,
  "nbformat_minor": 0,
  "metadata": {
    "colab": {
      "provenance": [],
      "authorship_tag": "ABX9TyOWiIBNSQY+UJCIa8SG3L+z",
      "include_colab_link": true
    },
    "kernelspec": {
      "name": "python3",
      "display_name": "Python 3"
    },
    "language_info": {
      "name": "python"
    }
  },
  "cells": [
    {
      "cell_type": "markdown",
      "metadata": {
        "id": "view-in-github",
        "colab_type": "text"
      },
      "source": [
        "<a href=\"https://colab.research.google.com/github/Adael311/IAyRN_AgoDic2024/blob/main/EjercicioPython_1.ipynb\" target=\"_parent\"><img src=\"https://colab.research.google.com/assets/colab-badge.svg\" alt=\"Open In Colab\"/></a>"
      ]
    },
    {
      "cell_type": "code",
      "execution_count": 8,
      "metadata": {
        "id": "4GInNkilIb_A"
      },
      "outputs": [],
      "source": [
        "# Diseño de algoritmos en Python\n",
        "\n",
        "# Adael Almanza Rodriguez 1962143\n",
        "# Alan Alonso López olveda 1919501\n",
        "# Angel Sánchez Vázquez  1901110\n",
        "\n",
        "# HORA: N1"
      ]
    },
    {
      "cell_type": "code",
      "source": [
        "# 1.- Desarrolla un algoritmo que le pida al usuario por su nombre y que lo salude con su nombre, excepto si se llama “Ana”, “Juan”, y “Pedro”.\n",
        "\n",
        "nombre = input(\"Introduce tu nombre: \")\n",
        "\n",
        "if nombre.isalpha():\n",
        "    if nombre in [\"Ana\", \"Juan\", \"Pedro\"]:\n",
        "        print(\"Lo siento, no puedo saludarte.\")\n",
        "    else:\n",
        "        print(\"Hola,\", nombre + \"!\")\n",
        "else:\n",
        "    print(\"El nombre debe contener solo letras.\")"
      ],
      "metadata": {
        "id": "lPi1kbRYKjaM"
      },
      "execution_count": null,
      "outputs": []
    },
    {
      "cell_type": "code",
      "source": [
        "# 2.- Desarrolla un algoritmo que por medio de una función, le pida al usuario una lista de N elementos y como resultado invierta el sentido de la lista.\n",
        "\n",
        "def lista_invertida():\n",
        "    while True:\n",
        "        n_input = input(\"Introduce el número de elementos de tu lista: \")\n",
        "        if n_input.isdigit() and int(n_input) > 0:\n",
        "            n = int(n_input)\n",
        "            break\n",
        "        print(\"ENTRADA NO VÁLIDA. (Introduce un número entero positivo).\")\n",
        "\n",
        "    lista = []\n",
        "    for i in range(n):\n",
        "        lista.append(input(f\"Introduce el elemento {i+1}: \"))\n",
        "\n",
        "    lista.reverse()\n",
        "    print(\"La lista invertida es:\", lista)\n",
        "\n",
        "lista_invertida()"
      ],
      "metadata": {
        "id": "beRPtK6bLMAk"
      },
      "execution_count": null,
      "outputs": []
    },
    {
      "cell_type": "code",
      "source": [
        "# 3.- Desarrolla un algoritmo que le pregunte al usuario cuántos números de la serie de Fibonacci quiere generar y que al final los imprima.\n",
        "\n",
        "def fibonacci(n):\n",
        "\n",
        "    fib_list = []\n",
        "    a = 0\n",
        "    b = 1\n",
        "    for _ in range(n):\n",
        "        fib_list.append(a)\n",
        "        temp = a\n",
        "        a = b\n",
        "        b = temp + b\n",
        "    return fib_list\n",
        "\n",
        "def main():\n",
        "    while True:\n",
        "        n_input = input(\"¿Cuántos números de la serie de Fibonacci quieres generar? \")\n",
        "        if n_input.isdigit() and int(n_input) > 0:\n",
        "            n = int(n_input)\n",
        "            break\n",
        "        print(\"Entrada no válida. Introduce un número entero positivo.\")\n",
        "\n",
        "    print(\"La serie de Fibonacci es:\", fibonacci(n))\n",
        "\n",
        "main()"
      ],
      "metadata": {
        "id": "lF-AsyJ2Ljzr"
      },
      "execution_count": null,
      "outputs": []
    }
  ]
}
